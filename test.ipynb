{
 "cells": [
  {
   "cell_type": "code",
   "execution_count": 8,
   "metadata": {},
   "outputs": [],
   "source": [
    "%reload_ext autoreload\n",
    "%autoreload 2\n",
    "import pandas as pf\n",
    "from vockend.tokenizer import TranslationTokenizer"
   ]
  },
  {
   "cell_type": "code",
   "execution_count": 2,
   "metadata": {},
   "outputs": [
    {
     "data": {
      "text/html": [
       "<div>\n",
       "<style scoped>\n",
       "    .dataframe tbody tr th:only-of-type {\n",
       "        vertical-align: middle;\n",
       "    }\n",
       "\n",
       "    .dataframe tbody tr th {\n",
       "        vertical-align: top;\n",
       "    }\n",
       "\n",
       "    .dataframe thead th {\n",
       "        text-align: right;\n",
       "    }\n",
       "</style>\n",
       "<table border=\"1\" class=\"dataframe\">\n",
       "  <thead>\n",
       "    <tr style=\"text-align: right;\">\n",
       "      <th></th>\n",
       "      <th>fr</th>\n",
       "      <th>adj</th>\n",
       "    </tr>\n",
       "  </thead>\n",
       "  <tbody>\n",
       "    <tr>\n",
       "      <th>0</th>\n",
       "      <td>caisse</td>\n",
       "      <td>daka</td>\n",
       "    </tr>\n",
       "    <tr>\n",
       "      <th>1</th>\n",
       "      <td>coffre</td>\n",
       "      <td>daka</td>\n",
       "    </tr>\n",
       "    <tr>\n",
       "      <th>2</th>\n",
       "      <td>grenier</td>\n",
       "      <td>ava</td>\n",
       "    </tr>\n",
       "    <tr>\n",
       "      <th>3</th>\n",
       "      <td>blessure</td>\n",
       "      <td>abi</td>\n",
       "    </tr>\n",
       "    <tr>\n",
       "      <th>4</th>\n",
       "      <td>Viens !</td>\n",
       "      <td>Va !</td>\n",
       "    </tr>\n",
       "  </tbody>\n",
       "</table>\n",
       "</div>"
      ],
      "text/plain": [
       "         fr    adj\n",
       "0    caisse   daka\n",
       "1    coffre  daka \n",
       "2   grenier   ava \n",
       "3  blessure    abi\n",
       "4   Viens !   Va !"
      ]
     },
     "execution_count": 2,
     "metadata": {},
     "output_type": "execute_result"
    }
   ],
   "source": [
    "data= pf.read_csv(\"data/fr_to_adj.csv\",sep=\";\")\n",
    "data.head(5)"
   ]
  },
  {
   "cell_type": "code",
   "execution_count": 3,
   "metadata": {},
   "outputs": [],
   "source": [
    "vockt = TranslationTokenizer(name=\"test\")"
   ]
  },
  {
   "cell_type": "code",
   "execution_count": null,
   "metadata": {},
   "outputs": [],
   "source": [
    "train_examples, val_examples,train_in,train_out = vockt.fit(data)"
   ]
  },
  {
   "cell_type": "code",
   "execution_count": 5,
   "metadata": {},
   "outputs": [],
   "source": [
    "ex= train_in.batch(4).take(1)"
   ]
  },
  {
   "cell_type": "code",
   "execution_count": 9,
   "metadata": {},
   "outputs": [
    {
     "name": "stdout",
     "output_type": "stream",
     "text": [
      "<tf.RaggedTensor [[2, 26, 194, 51, 3], [2, 168, 19, 56, 50, 184, 113, 50, 69, 47, 87, 3],\n",
      " [2, 48, 86, 109, 249, 96, 46, 32, 64, 183, 219, 69, 47, 119, 4, 3],\n",
      " [2, 45, 242, 182, 3]]>\n",
      "<tf.RaggedTensor [[b'[START]', b'j', b'##ar', b'##re', b'[END]'],\n",
      " [b'[START]', b'travail', b'c', b'##on', b'##t', b'##ra', b'##c', b'##t',\n",
      "  b'##u', b'##e', b'##l', b'[END]']                                      ,\n",
      " [b'[START]', b'la', b'##is', b'##se', b'##z', b'ce', b'##s', b'p', b'##r',\n",
      "  b'##os', b'##tit', b'##u', b'##e', b'##es', b'!', b'[END]']              ,\n",
      " [b'[START]', b'de', b'##h', b'##ors', b'[END]']]>\n"
     ]
    },
    {
     "data": {
      "text/plain": [
       "array([b'jarre', b'travail contractuel', b'laissez ces prostituees !',\n",
       "       b'dehors'], dtype=object)"
      ]
     },
     "execution_count": 9,
     "metadata": {},
     "output_type": "execute_result"
    }
   ],
   "source": [
    "t=vockt.t_in.tokenize(next(iter(ex)))\n",
    "print(t)\n",
    "tb=vockt.t_in.lookup(t)\n",
    "print(tb)\n",
    "vockt.t_in.detokenize(t).numpy()"
   ]
  },
  {
   "cell_type": "code",
   "execution_count": 7,
   "metadata": {},
   "outputs": [
    {
     "name": "stdout",
     "output_type": "stream",
     "text": [
      "<tf.RaggedTensor [[2, 130, 68, 18, 106, 10, 3]]>\n",
      "<tf.RaggedTensor [[b'[START]', b'afi', b'va', b'e', b'##l\\xc9\\x9b', b'.', b'[END]']]>\n"
     ]
    },
    {
     "data": {
      "text/plain": [
       "'afi va elɛ .'"
      ]
     },
     "execution_count": 7,
     "metadata": {},
     "output_type": "execute_result"
    }
   ],
   "source": [
    "t=vockt.t_out.tokenize([\"Afi vá elɛ.\"])\n",
    "print(t)\n",
    "tb=vockt.t_out.lookup(t)\n",
    "print(tb)\n",
    "vockt.t_out.detokenize(t).numpy()[0].decode('utf-8')"
   ]
  }
 ],
 "metadata": {
  "kernelspec": {
   "display_name": "tf",
   "language": "python",
   "name": "python3"
  },
  "language_info": {
   "codemirror_mode": {
    "name": "ipython",
    "version": 3
   },
   "file_extension": ".py",
   "mimetype": "text/x-python",
   "name": "python",
   "nbconvert_exporter": "python",
   "pygments_lexer": "ipython3",
   "version": "3.11.9"
  }
 },
 "nbformat": 4,
 "nbformat_minor": 2
}
